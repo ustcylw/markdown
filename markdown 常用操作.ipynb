{
 "cells": [
  {
   "cell_type": "markdown",
   "id": "ea7f8a50",
   "metadata": {},
   "source": [
    "# markdown 常用操作"
   ]
  },
  {
   "cell_type": "markdown",
   "id": "46dd2038",
   "metadata": {},
   "source": [
    "## 矩阵表示"
   ]
  },
  {
   "cell_type": "markdown",
   "id": "db793566",
   "metadata": {},
   "source": [
    "\\begin{array}{cccc|c} a & b & c & d & e\\\\ f & g & h & i & j \\\\ k & l & m & n & o \\\\ p & q & r & s & t \\end{array}\n",
    "\n",
    "$$A= \\left\\{ \\begin{array}{cccc|c} a & b & c & d & e\\\\ f & g & h & i & j \\\\ k & l & m & n & o \\\\ p & q & r & s & t \\end{array} \\right\\}$$\n",
    "\n",
    "$$A= \\left[ \\begin{array}{cccc|c} a & b & c & d & e\\\\ f & g & h & i & j \\\\ k & l & m & n & o \\\\ p & q & r & s & t \\end{array} \\right]$$\n",
    "\n",
    "$$A= \\left\\{ \\begin{array}{cccc|c} a & b & c & d & e\\\\ f & g & h & i & j \\\\ k & l & m & n & o \\\\ p & q & r & s & t \\end{array} \\right\\}$$"
   ]
  },
  {
   "cell_type": "markdown",
   "id": "6a385d22",
   "metadata": {},
   "source": [
    "\\begin{matrix} a & b & c & d & e\\\\ f & g & h & i & j \\\\ k & l & m & n & o \\\\ p & q & r & s & t \\end{matrix}"
   ]
  },
  {
   "cell_type": "code",
   "execution_count": null,
   "id": "962dc902",
   "metadata": {},
   "outputs": [],
   "source": []
  }
 ],
 "metadata": {
  "kernelspec": {
   "display_name": "Python 3.8.11 64-bit ('autodrive': conda)",
   "language": "python",
   "name": "python3811jvsc74a57bd0a933eb90e2068edf21e05feb7729729573d4449148bdd4e55a407fe5054b730d"
  },
  "language_info": {
   "codemirror_mode": {
    "name": "ipython",
    "version": 3
   },
   "file_extension": ".py",
   "mimetype": "text/x-python",
   "name": "python",
   "nbconvert_exporter": "python",
   "pygments_lexer": "ipython3",
   "version": "3.8.11"
  },
  "toc": {
   "base_numbering": 1,
   "nav_menu": {},
   "number_sections": true,
   "sideBar": true,
   "skip_h1_title": false,
   "title_cell": "Table of Contents",
   "title_sidebar": "Contents",
   "toc_cell": false,
   "toc_position": {},
   "toc_section_display": true,
   "toc_window_display": false
  },
  "varInspector": {
   "cols": {
    "lenName": 16,
    "lenType": 16,
    "lenVar": 40
   },
   "kernels_config": {
    "python": {
     "delete_cmd_postfix": "",
     "delete_cmd_prefix": "del ",
     "library": "var_list.py",
     "varRefreshCmd": "print(var_dic_list())"
    },
    "r": {
     "delete_cmd_postfix": ") ",
     "delete_cmd_prefix": "rm(",
     "library": "var_list.r",
     "varRefreshCmd": "cat(var_dic_list()) "
    }
   },
   "types_to_exclude": [
    "module",
    "function",
    "builtin_function_or_method",
    "instance",
    "_Feature"
   ],
   "window_display": false
  }
 },
 "nbformat": 4,
 "nbformat_minor": 5
}
